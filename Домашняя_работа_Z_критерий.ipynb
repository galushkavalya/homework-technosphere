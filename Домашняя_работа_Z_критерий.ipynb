{
  "nbformat": 4,
  "nbformat_minor": 0,
  "metadata": {
    "colab": {
      "name": "Домашняя работа. Z- критерий.ipynb",
      "provenance": []
    },
    "kernelspec": {
      "name": "python3",
      "display_name": "Python 3"
    }
  },
  "cells": [
    {
      "cell_type": "code",
      "metadata": {
        "id": "PBJUemPhcVi3",
        "colab_type": "code",
        "colab": {
          "base_uri": "https://localhost:8080/",
          "height": 70
        },
        "outputId": "77c0f88d-a26a-41cd-f71f-2f775cf7d290"
      },
      "source": [
        "import pandas as pd\n",
        "import numpy as np\n",
        "import seaborn as sns\n",
        "import matplotlib.pyplot as plt\n",
        "import scipy.stats as stats"
      ],
      "execution_count": 12,
      "outputs": [
        {
          "output_type": "stream",
          "text": [
            "/usr/local/lib/python3.6/dist-packages/statsmodels/tools/_testing.py:19: FutureWarning: pandas.util.testing is deprecated. Use the functions in the public API at pandas.testing instead.\n",
            "  import pandas.util.testing as tm\n"
          ],
          "name": "stderr"
        }
      ]
    },
    {
      "cell_type": "markdown",
      "metadata": {
        "id": "FvKCNBYwu-8l",
        "colab_type": "text"
      },
      "source": [
        "Двусторонняя гипотеза. Для реализации z - критерия для пропорций возьмем две группы людей:\n",
        "\n",
        "\n",
        "*   Группа людей, имеющих сердечно-сосудистые заболевания, n=500\n",
        "*   Группа людей без ссз, n=600\n",
        "\n",
        "Количество людей, которые имеют диабет, в первой группе = 285\n",
        "\n",
        "Количество диабетиков во второй - 210\n",
        "\n",
        "Основная гипотеза: Доля диабетиков в первой группе равна доле во второй\n",
        "\n",
        "Альтернативная: Доли людей с диабетом в этих двух группах существенно различаются\n",
        "\n"
      ]
    },
    {
      "cell_type": "code",
      "metadata": {
        "id": "Eqymbnf4cewf",
        "colab_type": "code",
        "colab": {
          "base_uri": "https://localhost:8080/",
          "height": 50
        },
        "outputId": "9b1d9a4d-aa82-4865-8778-6f410dc9919a"
      },
      "source": [
        "p1=285/500\n",
        "p2=210/600\n",
        "print('Доля людей с диабетом в первой группе = ',p1,'\\nДоля людей с диабетом во второй группе = ',p2)"
      ],
      "execution_count": 16,
      "outputs": [
        {
          "output_type": "stream",
          "text": [
            "Доля людей с диабетом в первой группе =  0.57 \n",
            "Доля людей с диабетом во второй группе =  0.35\n"
          ],
          "name": "stdout"
        }
      ]
    },
    {
      "cell_type": "markdown",
      "metadata": {
        "id": "IPOj-VkY6pi-",
        "colab_type": "text"
      },
      "source": [
        "Найдём общую пропорцию выборки. Числителем будет общее количество «положительных» результатов для двух выборок, а знаменателем - общее количество людей в двух выборках."
      ]
    },
    {
      "cell_type": "code",
      "metadata": {
        "id": "jFZzouNc6sIm",
        "colab_type": "code",
        "colab": {
          "base_uri": "https://localhost:8080/",
          "height": 34
        },
        "outputId": "76f6eb57-0259-4e6f-e287-623c6769c28b"
      },
      "source": [
        "p=(285+210)/(600+500)\n",
        "print('Общая пропорция выборки = ',p)"
      ],
      "execution_count": 17,
      "outputs": [
        {
          "output_type": "stream",
          "text": [
            "Общая пропорция выборки =  0.45\n"
          ],
          "name": "stdout"
        }
      ]
    },
    {
      "cell_type": "markdown",
      "metadata": {
        "id": "UlQDDk0y7JOM",
        "colab_type": "text"
      },
      "source": [
        "![alt text](https://www.statisticshowto.com/wp-content/uploads/2014/02/two-proprtion-z-test.png)\n",
        "Теперь рассчитаем статистику по формуле."
      ]
    },
    {
      "cell_type": "code",
      "metadata": {
        "id": "0UokUanw7lpM",
        "colab_type": "code",
        "colab": {
          "base_uri": "https://localhost:8080/",
          "height": 34
        },
        "outputId": "327a6a85-11c5-4126-8e32-92ba086d6d39"
      },
      "source": [
        "z=(p1-p2)/np.sqrt(p*(1-p)*(1/500+1/600))\n",
        "print('Статистика = ',z)"
      ],
      "execution_count": 19,
      "outputs": [
        {
          "output_type": "stream",
          "text": [
            "Статистика =  7.3029674334022125\n"
          ],
          "name": "stdout"
        }
      ]
    },
    {
      "cell_type": "markdown",
      "metadata": {
        "id": "h2rM4mjV8TgM",
        "colab_type": "text"
      },
      "source": [
        "Используя таблицу, найдем z-показатель, связанный с α / 2 (так как у нас проверка двусторонней гипотезы).\n",
        "![alt text](https://www.statisticshowto.com/wp-content/uploads/2014/11/z-alpha.png)\n",
        "\n"
      ]
    },
    {
      "cell_type": "markdown",
      "metadata": {
        "id": "Zzhu8Qy7_HXg",
        "colab_type": "text"
      },
      "source": [
        "Полагаем, что уровень значимости критерия α=0.05\n",
        "Z-показатель, связанный с 5% α-уровнем / 2, составляет 1,96.\n",
        "Наше значение больше 1, 96, поэтому мы можем отвергнуть нулевую гипотезу."
      ]
    },
    {
      "cell_type": "markdown",
      "metadata": {
        "id": "EdeAoNmUAKou",
        "colab_type": "text"
      },
      "source": [
        "Теперь необходимо проверить"
      ]
    }
  ]
}