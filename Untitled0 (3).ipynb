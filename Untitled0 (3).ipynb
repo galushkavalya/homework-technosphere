{
  "nbformat": 4,
  "nbformat_minor": 0,
  "metadata": {
    "colab": {
      "name": "Untitled0.ipynb",
      "provenance": []
    },
    "kernelspec": {
      "name": "python3",
      "display_name": "Python 3"
    }
  },
  "cells": [
    {
      "cell_type": "code",
      "metadata": {
        "id": "ZHB_4AMQAO5O",
        "colab_type": "code",
        "colab": {}
      },
      "source": [
        "import numpy as np"
      ],
      "execution_count": 0,
      "outputs": []
    },
    {
      "cell_type": "code",
      "metadata": {
        "id": "LTab97sq95Ne",
        "colab_type": "code",
        "colab": {
          "base_uri": "https://localhost:8080/",
          "height": 54
        },
        "outputId": "06b8c343-a9a5-46c5-9aa4-cbe5e162c9da"
      },
      "source": [
        "def fibonacccccci():\n",
        "  n=input()\n",
        "  if n.isdigit()==False:\n",
        "    return \"Плохой ввод\"\n",
        "     #Проверка, правильно ли введено число\n",
        "  n=int(n)\n",
        "  if n==0:\n",
        "    return 0\n",
        "  if (n==2 or n==1):\n",
        "    return 1\n",
        "  a1=1\n",
        "  a2=1\n",
        "  for x in range(n-2):\n",
        "    a=a1+a2\n",
        "    a1=a2\n",
        "    a2=a\n",
        "  return a\n",
        "fibonacccccci()"
      ],
      "execution_count": 35,
      "outputs": [
        {
          "output_type": "stream",
          "text": [
            "3\n"
          ],
          "name": "stdout"
        },
        {
          "output_type": "execute_result",
          "data": {
            "text/plain": [
              "2"
            ]
          },
          "metadata": {
            "tags": []
          },
          "execution_count": 35
        }
      ]
    },
    {
      "cell_type": "markdown",
      "metadata": {
        "id": "OASnVvSQTjz1",
        "colab_type": "text"
      },
      "source": [
        "Вводить числа необходимо через пробел без других знаков между значениями"
      ]
    },
    {
      "cell_type": "code",
      "metadata": {
        "id": "xR9sgapnHD6i",
        "colab_type": "code",
        "outputId": "a4cf1403-fe78-41f8-99e1-3767f211926e",
        "colab": {
          "base_uri": "https://localhost:8080/",
          "height": 54
        }
      },
      "source": [
        "def insert_zero():\n",
        "  string=input().split()\n",
        "  for x in string:\n",
        "    try:\n",
        "      int(x) \n",
        "    except ValueError:\n",
        "      return \"Плохой ввод 1\" \n",
        "      #Проверка, введены ли правильно числа\n",
        "  vec=np.asarray(string, int)\n",
        "  if np.count_nonzero(vec)!=vec.size:\n",
        "    return \"Плохой ввод 2\" \n",
        "      #Проверка, введены ли нули\n",
        "  vec=np.insert(vec, range(1, len(vec)), 0)\n",
        "  return vec\n",
        "insert_zero()"
      ],
      "execution_count": 36,
      "outputs": [
        {
          "output_type": "stream",
          "text": [
            "1 2 3 4 hj\n"
          ],
          "name": "stdout"
        },
        {
          "output_type": "execute_result",
          "data": {
            "text/plain": [
              "'Плохой ввод 1'"
            ]
          },
          "metadata": {
            "tags": []
          },
          "execution_count": 36
        }
      ]
    }
  ]
}